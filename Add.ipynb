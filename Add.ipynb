{
 "cells": [
  {
   "cell_type": "code",
   "execution_count": 4,
   "id": "5e68a4e6-7fea-401e-b0e5-6cf2f8e60645",
   "metadata": {},
   "outputs": [
    {
     "name": "stdout",
     "output_type": "stream",
     "text": [
      "Mean Squared Error: 3.17\n",
      "Mean Absolute Error: 1.46\n"
     ]
    }
   ],
   "source": [
    "import numpy as np\n",
    "import pandas as pd\n",
    "import matplotlib.pyplot as plt\n",
    "import seaborn as sns\n",
    "from sklearn.linear_model import LinearRegression\n",
    "from sklearn.metrics import mean_squared_error, mean_absolute_error\n",
    "from sklearn.model_selection import train_test_split, cross_val_score\n",
    "pd.set_option('display.float_format', lambda x: '%.2f' % x)\n",
    "df = pd.read_excel(\"/Users/ASUS/Desktop/AdvertisingLast.xlsx\")\n",
    "\n",
    "df = df.drop(\"Unnamed: 0\", axis=1)\n",
    "X = df.drop(\"Sales\", axis=1)\n",
    "y = df[\"Sales\"]\n",
    "X_train, X_test, y_train, y_test = train_test_split(X, y, test_size=0.20, random_state=42)\n",
    "reg = LinearRegression()\n",
    "reg.fit(X_train, y_train)\n",
    "y_pred = reg.predict(X_train)\n",
    "\n",
    "# Predict on test data\n",
    "y_test_pred = reg.predict(X_test)\n",
    "\n",
    "# Calculate performance metrics\n",
    "mse = mean_squared_error(y_test, y_test_pred)\n",
    "mae = mean_absolute_error(y_test, y_test_pred)\n",
    "\n",
    "print(f\"Mean Squared Error: {mse:.2f}\")\n",
    "print(f\"Mean Absolute Error: {mae:.2f}\")\n",
    "import pickle\n",
    "\n",
    "# Save the model\n",
    "with open('model.pkl', 'wb') as file:\n",
    "    pickle.dump(reg, file)\n"
   ]
  },
  {
   "cell_type": "code",
   "execution_count": null,
   "id": "181fecfd-cf66-467d-94e8-02a8b4a5fb51",
   "metadata": {},
   "outputs": [
    {
     "name": "stdout",
     "output_type": "stream",
     "text": [
      " * Serving Flask app '__main__'\n",
      " * Debug mode: off\n"
     ]
    },
    {
     "name": "stderr",
     "output_type": "stream",
     "text": [
      "WARNING: This is a development server. Do not use it in a production deployment. Use a production WSGI server instead.\n",
      " * Running on http://127.0.0.1:5001\n",
      "Press CTRL+C to quit\n",
      "C:\\Users\\ASUS\\anaconda3\\Lib\\site-packages\\sklearn\\base.py:439: UserWarning: X does not have valid feature names, but LinearRegression was fitted with feature names\n",
      "  warnings.warn(\n",
      "127.0.0.1 - - [28/Aug/2024 14:28:54] \"POST /predict HTTP/1.1\" 200 -\n",
      "C:\\Users\\ASUS\\anaconda3\\Lib\\site-packages\\sklearn\\base.py:439: UserWarning: X does not have valid feature names, but LinearRegression was fitted with feature names\n",
      "  warnings.warn(\n",
      "127.0.0.1 - - [28/Aug/2024 14:43:36] \"POST /predict HTTP/1.1\" 200 -\n",
      "C:\\Users\\ASUS\\anaconda3\\Lib\\site-packages\\sklearn\\base.py:439: UserWarning: X does not have valid feature names, but LinearRegression was fitted with feature names\n",
      "  warnings.warn(\n",
      "127.0.0.1 - - [28/Aug/2024 14:44:34] \"POST /predict HTTP/1.1\" 200 -\n",
      "C:\\Users\\ASUS\\anaconda3\\Lib\\site-packages\\sklearn\\base.py:439: UserWarning: X does not have valid feature names, but LinearRegression was fitted with feature names\n",
      "  warnings.warn(\n",
      "127.0.0.1 - - [28/Aug/2024 14:44:44] \"POST /predict HTTP/1.1\" 200 -\n",
      "C:\\Users\\ASUS\\anaconda3\\Lib\\site-packages\\sklearn\\base.py:439: UserWarning: X does not have valid feature names, but LinearRegression was fitted with feature names\n",
      "  warnings.warn(\n",
      "127.0.0.1 - - [28/Aug/2024 14:44:53] \"POST /predict HTTP/1.1\" 200 -\n",
      "C:\\Users\\ASUS\\anaconda3\\Lib\\site-packages\\sklearn\\base.py:439: UserWarning: X does not have valid feature names, but LinearRegression was fitted with feature names\n",
      "  warnings.warn(\n",
      "127.0.0.1 - - [28/Aug/2024 14:45:03] \"POST /predict HTTP/1.1\" 200 -\n",
      "C:\\Users\\ASUS\\anaconda3\\Lib\\site-packages\\sklearn\\base.py:439: UserWarning: X does not have valid feature names, but LinearRegression was fitted with feature names\n",
      "  warnings.warn(\n",
      "127.0.0.1 - - [28/Aug/2024 14:45:11] \"POST /predict HTTP/1.1\" 200 -\n",
      "C:\\Users\\ASUS\\anaconda3\\Lib\\site-packages\\sklearn\\base.py:439: UserWarning: X does not have valid feature names, but LinearRegression was fitted with feature names\n",
      "  warnings.warn(\n",
      "127.0.0.1 - - [28/Aug/2024 14:45:16] \"POST /predict HTTP/1.1\" 200 -\n",
      "C:\\Users\\ASUS\\anaconda3\\Lib\\site-packages\\sklearn\\base.py:439: UserWarning: X does not have valid feature names, but LinearRegression was fitted with feature names\n",
      "  warnings.warn(\n",
      "127.0.0.1 - - [28/Aug/2024 14:45:24] \"POST /predict HTTP/1.1\" 200 -\n",
      "C:\\Users\\ASUS\\anaconda3\\Lib\\site-packages\\sklearn\\base.py:439: UserWarning: X does not have valid feature names, but LinearRegression was fitted with feature names\n",
      "  warnings.warn(\n",
      "127.0.0.1 - - [28/Aug/2024 14:46:50] \"POST /predict HTTP/1.1\" 200 -\n",
      "C:\\Users\\ASUS\\anaconda3\\Lib\\site-packages\\sklearn\\base.py:439: UserWarning: X does not have valid feature names, but LinearRegression was fitted with feature names\n",
      "  warnings.warn(\n",
      "127.0.0.1 - - [28/Aug/2024 14:46:55] \"POST /predict HTTP/1.1\" 200 -\n",
      "C:\\Users\\ASUS\\anaconda3\\Lib\\site-packages\\sklearn\\base.py:439: UserWarning: X does not have valid feature names, but LinearRegression was fitted with feature names\n",
      "  warnings.warn(\n",
      "127.0.0.1 - - [28/Aug/2024 14:47:01] \"POST /predict HTTP/1.1\" 200 -\n",
      "C:\\Users\\ASUS\\anaconda3\\Lib\\site-packages\\sklearn\\base.py:439: UserWarning: X does not have valid feature names, but LinearRegression was fitted with feature names\n",
      "  warnings.warn(\n",
      "127.0.0.1 - - [28/Aug/2024 14:47:07] \"POST /predict HTTP/1.1\" 200 -\n",
      "C:\\Users\\ASUS\\anaconda3\\Lib\\site-packages\\sklearn\\base.py:439: UserWarning: X does not have valid feature names, but LinearRegression was fitted with feature names\n",
      "  warnings.warn(\n",
      "127.0.0.1 - - [28/Aug/2024 14:49:37] \"POST /predict HTTP/1.1\" 200 -\n",
      "C:\\Users\\ASUS\\anaconda3\\Lib\\site-packages\\sklearn\\base.py:439: UserWarning: X does not have valid feature names, but LinearRegression was fitted with feature names\n",
      "  warnings.warn(\n",
      "127.0.0.1 - - [28/Aug/2024 14:49:48] \"POST /predict HTTP/1.1\" 200 -\n"
     ]
    }
   ],
   "source": [
    "from flask import Flask, request, jsonify\n",
    "import pickle\n",
    "import numpy as np\n",
    "\n",
    "app = Flask(__name__)\n",
    "\n",
    "# Load the model\n",
    "with open('model.pkl', 'rb') as file:\n",
    "    model = pickle.load(file)\n",
    "\n",
    "@app.route('/predict', methods=['POST'])\n",
    "def predict():\n",
    "    data = request.get_json(force=True)\n",
    "    features = np.array(data['features']).reshape(1, -1)\n",
    "    prediction = model.predict(features)[0]\n",
    "    return jsonify({'prediction': prediction})\n",
    "\n",
    "if __name__ == \"__main__\":\n",
    "    app.run(port=5001)  # Port 5001\n"
   ]
  },
  {
   "cell_type": "code",
   "execution_count": null,
   "id": "50f09234-703b-41f8-84d7-c19008a240f0",
   "metadata": {},
   "outputs": [],
   "source": []
  }
 ],
 "metadata": {
  "kernelspec": {
   "display_name": "Python 3 (ipykernel)",
   "language": "python",
   "name": "python3"
  },
  "language_info": {
   "codemirror_mode": {
    "name": "ipython",
    "version": 3
   },
   "file_extension": ".py",
   "mimetype": "text/x-python",
   "name": "python",
   "nbconvert_exporter": "python",
   "pygments_lexer": "ipython3",
   "version": "3.11.7"
  }
 },
 "nbformat": 4,
 "nbformat_minor": 5
}
